{
 "cells": [
  {
   "cell_type": "code",
   "execution_count": 1,
   "metadata": {},
   "outputs": [],
   "source": [
    "import requests\n",
    "import PyPDF2  \n",
    "import camelot"
   ]
  },
  {
   "cell_type": "code",
   "execution_count": 2,
   "metadata": {},
   "outputs": [],
   "source": [
    "url = \"https://nirfcdn.azureedge.net/2020/pdf/Engineering/IR-E-U-0456.pdf\""
   ]
  },
  {
   "cell_type": "code",
   "execution_count": 3,
   "metadata": {},
   "outputs": [],
   "source": [
    "data=requests.get(url)"
   ]
  },
  {
   "cell_type": "code",
   "execution_count": 17,
   "metadata": {},
   "outputs": [],
   "source": [
    "with open('IR-E-U-0456.pdf','wb') as f:\n",
    "    f.write(data.content)"
   ]
  },
  {
   "cell_type": "code",
   "execution_count": 22,
   "metadata": {},
   "outputs": [],
   "source": [
    "tables = camelot.read_pdf('IR-E-U-0456.pdf')"
   ]
  },
  {
   "cell_type": "code",
   "execution_count": 24,
   "metadata": {},
   "outputs": [
    {
     "data": {
      "text/plain": [
       "3"
      ]
     },
     "execution_count": 24,
     "metadata": {},
     "output_type": "execute_result"
    }
   ],
   "source": [
    "tables.n"
   ]
  },
  {
   "cell_type": "code",
   "execution_count": 84,
   "metadata": {},
   "outputs": [],
   "source": [
    "table = tables[2].df"
   ]
  },
  {
   "cell_type": "code",
   "execution_count": 85,
   "metadata": {},
   "outputs": [
    {
     "data": {
      "text/html": [
       "<div>\n",
       "<style scoped>\n",
       "    .dataframe tbody tr th:only-of-type {\n",
       "        vertical-align: middle;\n",
       "    }\n",
       "\n",
       "    .dataframe tbody tr th {\n",
       "        vertical-align: top;\n",
       "    }\n",
       "\n",
       "    .dataframe thead th {\n",
       "        text-align: right;\n",
       "    }\n",
       "</style>\n",
       "<table border=\"1\" class=\"dataframe\">\n",
       "  <thead>\n",
       "    <tr style=\"text-align: right;\">\n",
       "      <th></th>\n",
       "      <th>0</th>\n",
       "      <th>1</th>\n",
       "      <th>2</th>\n",
       "      <th>3</th>\n",
       "      <th>4</th>\n",
       "      <th>5</th>\n",
       "      <th>6</th>\n",
       "      <th>7</th>\n",
       "      <th>8</th>\n",
       "      <th>9</th>\n",
       "    </tr>\n",
       "  </thead>\n",
       "  <tbody>\n",
       "    <tr>\n",
       "      <th>0</th>\n",
       "      <td>Academic Year</td>\n",
       "      <td>No. of first year\\nstudents intake in the\\nyear</td>\n",
       "      <td>No. of first year\\nstudents admitted in\\nthe year</td>\n",
       "      <td>Academic Year</td>\n",
       "      <td>No. of students\\nadmitted through\\nLateral entry</td>\n",
       "      <td>Academic Year</td>\n",
       "      <td>No. of students\\ngraduating in\\nminimum stipul...</td>\n",
       "      <td>No. of students\\nplaced</td>\n",
       "      <td>Median salary of\\nplaced\\ngraduates(Amount in\\...</td>\n",
       "      <td>No. of students\\nselected for Higher\\nStudies</td>\n",
       "    </tr>\n",
       "    <tr>\n",
       "      <th>1</th>\n",
       "      <td>2013-14</td>\n",
       "      <td>446</td>\n",
       "      <td>439</td>\n",
       "      <td>2014-15</td>\n",
       "      <td>0</td>\n",
       "      <td>2016-17</td>\n",
       "      <td>437</td>\n",
       "      <td>288</td>\n",
       "      <td>1020000(Rupees Ten\\nlakhs and Twenty\\nthousand)</td>\n",
       "      <td>102</td>\n",
       "    </tr>\n",
       "    <tr>\n",
       "      <th>2</th>\n",
       "      <td>2014-15</td>\n",
       "      <td>466</td>\n",
       "      <td>441</td>\n",
       "      <td>2015-16</td>\n",
       "      <td>0</td>\n",
       "      <td>2017-18</td>\n",
       "      <td>334</td>\n",
       "      <td>283</td>\n",
       "      <td>1306000(Rupees\\nThirteen lakhs six\\nthousand o...</td>\n",
       "      <td>51</td>\n",
       "    </tr>\n",
       "    <tr>\n",
       "      <th>3</th>\n",
       "      <td>2015-16</td>\n",
       "      <td>466</td>\n",
       "      <td>458</td>\n",
       "      <td>2016-17</td>\n",
       "      <td>0</td>\n",
       "      <td>2018-19</td>\n",
       "      <td>362</td>\n",
       "      <td>268</td>\n",
       "      <td>1360000(Rupees\\nThirteen Lakhs Sixty\\nthousand)</td>\n",
       "      <td>65</td>\n",
       "    </tr>\n",
       "  </tbody>\n",
       "</table>\n",
       "</div>"
      ],
      "text/plain": [
       "               0                                                1  \\\n",
       "0  Academic Year  No. of first year\\nstudents intake in the\\nyear   \n",
       "1        2013-14                                              446   \n",
       "2        2014-15                                              466   \n",
       "3        2015-16                                              466   \n",
       "\n",
       "                                                   2              3  \\\n",
       "0  No. of first year\\nstudents admitted in\\nthe year  Academic Year   \n",
       "1                                                439        2014-15   \n",
       "2                                                441        2015-16   \n",
       "3                                                458        2016-17   \n",
       "\n",
       "                                                  4              5  \\\n",
       "0  No. of students\\nadmitted through\\nLateral entry  Academic Year   \n",
       "1                                                 0        2016-17   \n",
       "2                                                 0        2017-18   \n",
       "3                                                 0        2018-19   \n",
       "\n",
       "                                                   6                        7  \\\n",
       "0  No. of students\\ngraduating in\\nminimum stipul...  No. of students\\nplaced   \n",
       "1                                                437                      288   \n",
       "2                                                334                      283   \n",
       "3                                                362                      268   \n",
       "\n",
       "                                                   8  \\\n",
       "0  Median salary of\\nplaced\\ngraduates(Amount in\\...   \n",
       "1    1020000(Rupees Ten\\nlakhs and Twenty\\nthousand)   \n",
       "2  1306000(Rupees\\nThirteen lakhs six\\nthousand o...   \n",
       "3    1360000(Rupees\\nThirteen Lakhs Sixty\\nthousand)   \n",
       "\n",
       "                                               9  \n",
       "0  No. of students\\nselected for Higher\\nStudies  \n",
       "1                                            102  \n",
       "2                                             51  \n",
       "3                                             65  "
      ]
     },
     "execution_count": 85,
     "metadata": {},
     "output_type": "execute_result"
    }
   ],
   "source": [
    "table"
   ]
  },
  {
   "cell_type": "code",
   "execution_count": 87,
   "metadata": {},
   "outputs": [
    {
     "data": {
      "text/plain": [
       "'1360000'"
      ]
     },
     "execution_count": 87,
     "metadata": {},
     "output_type": "execute_result"
    }
   ],
   "source": []
  }
 ],
 "metadata": {
  "kernelspec": {
   "display_name": "Python 3",
   "language": "python",
   "name": "python3"
  },
  "language_info": {
   "codemirror_mode": {
    "name": "ipython",
    "version": 3
   },
   "file_extension": ".py",
   "mimetype": "text/x-python",
   "name": "python",
   "nbconvert_exporter": "python",
   "pygments_lexer": "ipython3",
   "version": "3.8.3"
  }
 },
 "nbformat": 4,
 "nbformat_minor": 4
}
