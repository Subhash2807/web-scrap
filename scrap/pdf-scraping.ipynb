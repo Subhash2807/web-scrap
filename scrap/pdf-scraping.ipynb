{
 "cells": [
  {
   "cell_type": "code",
   "execution_count": 1,
   "metadata": {},
   "outputs": [],
   "source": [
    "import requests\n",
    "import PyPDF2  \n",
    "import camelot"
   ]
  },
  {
   "cell_type": "code",
   "execution_count": 2,
   "metadata": {},
   "outputs": [],
   "source": [
    "url = \"https://nirfcdn.azureedge.net/2020/pdf/Engineering/IR-E-U-0456.pdf\""
   ]
  },
  {
   "cell_type": "code",
   "execution_count": 3,
   "metadata": {},
   "outputs": [],
   "source": [
    "data=requests.get(url)"
   ]
  },
  {
   "cell_type": "code",
   "execution_count": 17,
   "metadata": {},
   "outputs": [],
   "source": [
    "with open('IR-E-U-0456.pdf','wb') as f:\n",
    "    f.write(data.content)"
   ]
  },
  {
   "cell_type": "code",
   "execution_count": 22,
   "metadata": {},
   "outputs": [],
   "source": [
    "tables = camelot.read_pdf('IR-E-U-0456.pdf')"
   ]
  },
  {
   "cell_type": "code",
   "execution_count": 24,
   "metadata": {},
   "outputs": [
    {
     "data": {
      "text/plain": [
       "3"
      ]
     },
     "execution_count": 24,
     "metadata": {},
     "output_type": "execute_result"
    }
   ],
   "source": [
    "tables.n"
   ]
  },
  {
   "cell_type": "code",
   "execution_count": 100,
   "metadata": {},
   "outputs": [
    {
     "data": {
      "text/plain": [
       "1814"
      ]
     },
     "execution_count": 100,
     "metadata": {},
     "output_type": "execute_result"
    }
   ],
   "source": [
    "int(tables[1].df[1][1])"
   ]
  },
  {
   "cell_type": "code",
   "execution_count": 102,
   "metadata": {},
   "outputs": [
    {
     "data": {
      "text/html": [
       "<div>\n",
       "<style scoped>\n",
       "    .dataframe tbody tr th:only-of-type {\n",
       "        vertical-align: middle;\n",
       "    }\n",
       "\n",
       "    .dataframe tbody tr th {\n",
       "        vertical-align: top;\n",
       "    }\n",
       "\n",
       "    .dataframe thead th {\n",
       "        text-align: right;\n",
       "    }\n",
       "</style>\n",
       "<table border=\"1\" class=\"dataframe\">\n",
       "  <thead>\n",
       "    <tr style=\"text-align: right;\">\n",
       "      <th></th>\n",
       "      <th>0</th>\n",
       "      <th>1</th>\n",
       "      <th>2</th>\n",
       "      <th>3</th>\n",
       "      <th>4</th>\n",
       "      <th>5</th>\n",
       "      <th>6</th>\n",
       "      <th>7</th>\n",
       "      <th>8</th>\n",
       "      <th>9</th>\n",
       "      <th>10</th>\n",
       "      <th>11</th>\n",
       "      <th>12</th>\n",
       "    </tr>\n",
       "  </thead>\n",
       "  <tbody>\n",
       "    <tr>\n",
       "      <th>0</th>\n",
       "      <td>(All programs\\nof all years)</td>\n",
       "      <td>No. of Male\\nStudents</td>\n",
       "      <td>No. of Female\\nStudents</td>\n",
       "      <td>Total Students</td>\n",
       "      <td>Within State\\n(Including male\\n&amp; female)</td>\n",
       "      <td>Outside State\\n(Including male\\n&amp; female)</td>\n",
       "      <td>Outside\\nCountry\\n(Including male\\n&amp; female)</td>\n",
       "      <td>Economically\\nBackward\\n(Including male\\n&amp; fem...</td>\n",
       "      <td>Socially\\nChallenged\\n(SC+ST+OBC\\nIncluding ma...</td>\n",
       "      <td>No. of students\\nreceiving full\\ntuition fee\\n...</td>\n",
       "      <td>No. of students\\nreceiving full\\ntuition fee\\n...</td>\n",
       "      <td>No. of students\\nreceiving full\\ntuition fee\\n...</td>\n",
       "      <td>No. of students\\nwho are not\\nreceiving full\\n...</td>\n",
       "    </tr>\n",
       "    <tr>\n",
       "      <th>1</th>\n",
       "      <td>UG [4 Years\\nProgram(s)]</td>\n",
       "      <td>1814</td>\n",
       "      <td>272</td>\n",
       "      <td>2086</td>\n",
       "      <td>533</td>\n",
       "      <td>1529</td>\n",
       "      <td>24</td>\n",
       "      <td>199</td>\n",
       "      <td>1105</td>\n",
       "      <td>47</td>\n",
       "      <td>938</td>\n",
       "      <td>100</td>\n",
       "      <td>219</td>\n",
       "    </tr>\n",
       "    <tr>\n",
       "      <th>2</th>\n",
       "      <td>UG [5 Years\\nProgram(s)]</td>\n",
       "      <td>1753</td>\n",
       "      <td>281</td>\n",
       "      <td>2034</td>\n",
       "      <td>441</td>\n",
       "      <td>1574</td>\n",
       "      <td>19</td>\n",
       "      <td>198</td>\n",
       "      <td>1041</td>\n",
       "      <td>26</td>\n",
       "      <td>1001</td>\n",
       "      <td>42</td>\n",
       "      <td>170</td>\n",
       "    </tr>\n",
       "    <tr>\n",
       "      <th>3</th>\n",
       "      <td>PG [2 Year\\nProgram(s)]</td>\n",
       "      <td>898</td>\n",
       "      <td>146</td>\n",
       "      <td>1044</td>\n",
       "      <td>173</td>\n",
       "      <td>870</td>\n",
       "      <td>1</td>\n",
       "      <td>306</td>\n",
       "      <td>467</td>\n",
       "      <td>0</td>\n",
       "      <td>724</td>\n",
       "      <td>43</td>\n",
       "      <td>6</td>\n",
       "    </tr>\n",
       "    <tr>\n",
       "      <th>4</th>\n",
       "      <td>PG [3 Year\\nProgram(s)]</td>\n",
       "      <td>612</td>\n",
       "      <td>127</td>\n",
       "      <td>739</td>\n",
       "      <td>246</td>\n",
       "      <td>493</td>\n",
       "      <td>0</td>\n",
       "      <td>299</td>\n",
       "      <td>211</td>\n",
       "      <td>5</td>\n",
       "      <td>406</td>\n",
       "      <td>72</td>\n",
       "      <td>27</td>\n",
       "    </tr>\n",
       "  </tbody>\n",
       "</table>\n",
       "</div>"
      ],
      "text/plain": [
       "                              0                      1  \\\n",
       "0  (All programs\\nof all years)  No. of Male\\nStudents   \n",
       "1      UG [4 Years\\nProgram(s)]                   1814   \n",
       "2      UG [5 Years\\nProgram(s)]                   1753   \n",
       "3       PG [2 Year\\nProgram(s)]                    898   \n",
       "4       PG [3 Year\\nProgram(s)]                    612   \n",
       "\n",
       "                         2               3  \\\n",
       "0  No. of Female\\nStudents  Total Students   \n",
       "1                      272            2086   \n",
       "2                      281            2034   \n",
       "3                      146            1044   \n",
       "4                      127             739   \n",
       "\n",
       "                                          4  \\\n",
       "0  Within State\\n(Including male\\n& female)   \n",
       "1                                       533   \n",
       "2                                       441   \n",
       "3                                       173   \n",
       "4                                       246   \n",
       "\n",
       "                                           5  \\\n",
       "0  Outside State\\n(Including male\\n& female)   \n",
       "1                                       1529   \n",
       "2                                       1574   \n",
       "3                                        870   \n",
       "4                                        493   \n",
       "\n",
       "                                              6  \\\n",
       "0  Outside\\nCountry\\n(Including male\\n& female)   \n",
       "1                                            24   \n",
       "2                                            19   \n",
       "3                                             1   \n",
       "4                                             0   \n",
       "\n",
       "                                                   7  \\\n",
       "0  Economically\\nBackward\\n(Including male\\n& fem...   \n",
       "1                                                199   \n",
       "2                                                198   \n",
       "3                                                306   \n",
       "4                                                299   \n",
       "\n",
       "                                                   8  \\\n",
       "0  Socially\\nChallenged\\n(SC+ST+OBC\\nIncluding ma...   \n",
       "1                                               1105   \n",
       "2                                               1041   \n",
       "3                                                467   \n",
       "4                                                211   \n",
       "\n",
       "                                                   9  \\\n",
       "0  No. of students\\nreceiving full\\ntuition fee\\n...   \n",
       "1                                                 47   \n",
       "2                                                 26   \n",
       "3                                                  0   \n",
       "4                                                  5   \n",
       "\n",
       "                                                  10  \\\n",
       "0  No. of students\\nreceiving full\\ntuition fee\\n...   \n",
       "1                                                938   \n",
       "2                                               1001   \n",
       "3                                                724   \n",
       "4                                                406   \n",
       "\n",
       "                                                  11  \\\n",
       "0  No. of students\\nreceiving full\\ntuition fee\\n...   \n",
       "1                                                100   \n",
       "2                                                 42   \n",
       "3                                                 43   \n",
       "4                                                 72   \n",
       "\n",
       "                                                  12  \n",
       "0  No. of students\\nwho are not\\nreceiving full\\n...  \n",
       "1                                                219  \n",
       "2                                                170  \n",
       "3                                                  6  \n",
       "4                                                 27  "
      ]
     },
     "execution_count": 102,
     "metadata": {},
     "output_type": "execute_result"
    }
   ],
   "source": [
    "tables[1].df"
   ]
  },
  {
   "cell_type": "code",
   "execution_count": 94,
   "metadata": {},
   "outputs": [
    {
     "data": {
      "text/plain": [
       "'1360000(Rupees\\nThirteen Lakhs Sixty\\nthousand)'"
      ]
     },
     "execution_count": 94,
     "metadata": {},
     "output_type": "execute_result"
    }
   ],
   "source": [
    "table[8][3]"
   ]
  },
  {
   "cell_type": "code",
   "execution_count": 103,
   "metadata": {},
   "outputs": [
    {
     "data": {
      "text/plain": [
       "'IR-E-U-0456.pdf'"
      ]
     },
     "execution_count": 103,
     "metadata": {},
     "output_type": "execute_result"
    }
   ],
   "source": [
    "url.split('/')[-1]"
   ]
  },
  {
   "cell_type": "code",
   "execution_count": 166,
   "metadata": {},
   "outputs": [],
   "source": [
    "x = tables[2].df"
   ]
  },
  {
   "cell_type": "code",
   "execution_count": 174,
   "metadata": {},
   "outputs": [
    {
     "data": {
      "text/plain": [
       "'458'"
      ]
     },
     "execution_count": 174,
     "metadata": {},
     "output_type": "execute_result"
    }
   ],
   "source": [
    "x[2][3]"
   ]
  },
  {
   "cell_type": "code",
   "execution_count": 154,
   "metadata": {},
   "outputs": [
    {
     "data": {
      "text/html": [
       "<div>\n",
       "<style scoped>\n",
       "    .dataframe tbody tr th:only-of-type {\n",
       "        vertical-align: middle;\n",
       "    }\n",
       "\n",
       "    .dataframe tbody tr th {\n",
       "        vertical-align: top;\n",
       "    }\n",
       "\n",
       "    .dataframe thead th {\n",
       "        text-align: right;\n",
       "    }\n",
       "</style>\n",
       "<table border=\"1\" class=\"dataframe\">\n",
       "  <thead>\n",
       "    <tr style=\"text-align: right;\">\n",
       "      <th></th>\n",
       "      <th>0</th>\n",
       "      <th>1</th>\n",
       "      <th>2</th>\n",
       "      <th>3</th>\n",
       "      <th>4</th>\n",
       "      <th>5</th>\n",
       "      <th>6</th>\n",
       "      <th>7</th>\n",
       "      <th>8</th>\n",
       "      <th>9</th>\n",
       "    </tr>\n",
       "  </thead>\n",
       "  <tbody>\n",
       "    <tr>\n",
       "      <th>0</th>\n",
       "      <td>Academic Year</td>\n",
       "      <td>No. of first year\\nstudents intake in the\\nyear</td>\n",
       "      <td>No. of first year\\nstudents admitted in\\nthe year</td>\n",
       "      <td>Academic Year</td>\n",
       "      <td>No. of students\\nadmitted through\\nLateral entry</td>\n",
       "      <td>Academic Year</td>\n",
       "      <td>No. of students\\ngraduating in\\nminimum stipul...</td>\n",
       "      <td>No. of students\\nplaced</td>\n",
       "      <td>Median salary of\\nplaced\\ngraduates(Amount in\\...</td>\n",
       "      <td>No. of students\\nselected for Higher\\nStudies</td>\n",
       "    </tr>\n",
       "    <tr>\n",
       "      <th>1</th>\n",
       "      <td>2013-14</td>\n",
       "      <td>446</td>\n",
       "      <td>439</td>\n",
       "      <td>2014-15</td>\n",
       "      <td>0</td>\n",
       "      <td>2016-17</td>\n",
       "      <td>437</td>\n",
       "      <td>288</td>\n",
       "      <td>1020000(Rupees Ten\\nlakhs and Twenty\\nthousand)</td>\n",
       "      <td>102</td>\n",
       "    </tr>\n",
       "    <tr>\n",
       "      <th>2</th>\n",
       "      <td>2014-15</td>\n",
       "      <td>466</td>\n",
       "      <td>441</td>\n",
       "      <td>2015-16</td>\n",
       "      <td>0</td>\n",
       "      <td>2017-18</td>\n",
       "      <td>334</td>\n",
       "      <td>283</td>\n",
       "      <td>1306000(Rupees\\nThirteen lakhs six\\nthousand o...</td>\n",
       "      <td>51</td>\n",
       "    </tr>\n",
       "    <tr>\n",
       "      <th>3</th>\n",
       "      <td>2015-16</td>\n",
       "      <td>466</td>\n",
       "      <td>458</td>\n",
       "      <td>2016-17</td>\n",
       "      <td>0</td>\n",
       "      <td>2018-19</td>\n",
       "      <td>362</td>\n",
       "      <td>268</td>\n",
       "      <td>1360000(Rupees\\nThirteen Lakhs Sixty\\nthousand)</td>\n",
       "      <td>65</td>\n",
       "    </tr>\n",
       "  </tbody>\n",
       "</table>\n",
       "</div>"
      ],
      "text/plain": [
       "               0                                                1  \\\n",
       "0  Academic Year  No. of first year\\nstudents intake in the\\nyear   \n",
       "1        2013-14                                              446   \n",
       "2        2014-15                                              466   \n",
       "3        2015-16                                              466   \n",
       "\n",
       "                                                   2              3  \\\n",
       "0  No. of first year\\nstudents admitted in\\nthe year  Academic Year   \n",
       "1                                                439        2014-15   \n",
       "2                                                441        2015-16   \n",
       "3                                                458        2016-17   \n",
       "\n",
       "                                                  4              5  \\\n",
       "0  No. of students\\nadmitted through\\nLateral entry  Academic Year   \n",
       "1                                                 0        2016-17   \n",
       "2                                                 0        2017-18   \n",
       "3                                                 0        2018-19   \n",
       "\n",
       "                                                   6                        7  \\\n",
       "0  No. of students\\ngraduating in\\nminimum stipul...  No. of students\\nplaced   \n",
       "1                                                437                      288   \n",
       "2                                                334                      283   \n",
       "3                                                362                      268   \n",
       "\n",
       "                                                   8  \\\n",
       "0  Median salary of\\nplaced\\ngraduates(Amount in\\...   \n",
       "1    1020000(Rupees Ten\\nlakhs and Twenty\\nthousand)   \n",
       "2  1306000(Rupees\\nThirteen lakhs six\\nthousand o...   \n",
       "3    1360000(Rupees\\nThirteen Lakhs Sixty\\nthousand)   \n",
       "\n",
       "                                               9  \n",
       "0  No. of students\\nselected for Higher\\nStudies  \n",
       "1                                            102  \n",
       "2                                             51  \n",
       "3                                             65  "
      ]
     },
     "execution_count": 154,
     "metadata": {},
     "output_type": "execute_result"
    }
   ],
   "source": [
    "x"
   ]
  },
  {
   "cell_type": "code",
   "execution_count": null,
   "metadata": {},
   "outputs": [],
   "source": []
  }
 ],
 "metadata": {
  "kernelspec": {
   "display_name": "Python 3",
   "language": "python",
   "name": "python3"
  },
  "language_info": {
   "codemirror_mode": {
    "name": "ipython",
    "version": 3
   },
   "file_extension": ".py",
   "mimetype": "text/x-python",
   "name": "python",
   "nbconvert_exporter": "python",
   "pygments_lexer": "ipython3",
   "version": "3.8.3"
  }
 },
 "nbformat": 4,
 "nbformat_minor": 4
}
