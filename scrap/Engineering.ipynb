{
 "cells": [
  {
   "cell_type": "code",
   "execution_count": 1,
   "metadata": {},
   "outputs": [],
   "source": [
    "import requests\n",
    "from bs4 import BeautifulSoup\n",
    "import csv"
   ]
  },
  {
   "cell_type": "code",
   "execution_count": 2,
   "metadata": {},
   "outputs": [],
   "source": [
    "url = \"https://www.nirfindia.org/2020/EngineeringRanking.html\""
   ]
  },
  {
   "cell_type": "code",
   "execution_count": 3,
   "metadata": {},
   "outputs": [
    {
     "data": {
      "text/plain": [
       "'https://www.nirfindia.org/2020/EngineeringRanking.html'"
      ]
     },
     "execution_count": 3,
     "metadata": {},
     "output_type": "execute_result"
    }
   ],
   "source": [
    "url"
   ]
  },
  {
   "cell_type": "code",
   "execution_count": 4,
   "metadata": {},
   "outputs": [],
   "source": [
    "data = requests.get(url)"
   ]
  },
  {
   "cell_type": "code",
   "execution_count": 5,
   "metadata": {},
   "outputs": [],
   "source": [
    "htm = BeautifulSoup(data.content,\"html.parser\")"
   ]
  },
  {
   "cell_type": "code",
   "execution_count": 6,
   "metadata": {},
   "outputs": [
    {
     "data": {
      "text/plain": [
       "bs4.BeautifulSoup"
      ]
     },
     "execution_count": 6,
     "metadata": {},
     "output_type": "execute_result"
    }
   ],
   "source": [
    "type(htm)"
   ]
  },
  {
   "cell_type": "code",
   "execution_count": 7,
   "metadata": {},
   "outputs": [],
   "source": [
    "div = htm.find(\"tbody\")"
   ]
  },
  {
   "cell_type": "code",
   "execution_count": 8,
   "metadata": {},
   "outputs": [],
   "source": [
    "row=div.find_all('tr',recursive=False)"
   ]
  },
  {
   "cell_type": "code",
   "execution_count": 9,
   "metadata": {},
   "outputs": [
    {
     "data": {
      "text/plain": [
       "200"
      ]
     },
     "execution_count": 9,
     "metadata": {},
     "output_type": "execute_result"
    }
   ],
   "source": [
    "len(row)"
   ]
  },
  {
   "cell_type": "code",
   "execution_count": 16,
   "metadata": {},
   "outputs": [
    {
     "data": {
      "text/plain": [
       "<tr><td>IR-E-U-0456</td><td>Indian Institute of Technology Madras<div style=\"float:right;\"><a class=\"btn-more-details\" href=\"javascript:;\"><span>More Details</span></a><a class=\"close_data\" id=\"close_1\" style=\"display: none;\">Close</a> | <a href=\"https://nirfcdn.azureedge.net/2020/pdf/Engineering/IR-E-U-0456.pdf\" target=\"_blank\"><img src=\"https://www.nirfindia.org/images/pdf_icon.png\" style=\"width: 20px; height: 20px !important\"/></a></div><div class=\"tbl_hidden\" style=\"display:none;width:100%;\"><br><table class=\"table\"><thead><tr><th>TLR (100)</th><th>RPC (100)</th><th>GO (100)</th><th>OI (100)</th><th>PERCEPTION (100)</th></tr></thead><tbody><tr><td>95.42</td><td>94.64</td><td>83.90</td><td>61.31</td><td>100.00</td></tr></tbody></table></br></div></td><td>Chennai</td><td>Tamil Nadu</td><td>89.93</td><td>1</td></tr>"
      ]
     },
     "execution_count": 16,
     "metadata": {},
     "output_type": "execute_result"
    }
   ],
   "source": [
    "row[0]"
   ]
  },
  {
   "cell_type": "code",
   "execution_count": 11,
   "metadata": {},
   "outputs": [],
   "source": [
    "x=row[0].find_all('td',recursive=False)"
   ]
  },
  {
   "cell_type": "code",
   "execution_count": 12,
   "metadata": {},
   "outputs": [
    {
     "data": {
      "text/plain": [
       "<td>1</td>"
      ]
     },
     "execution_count": 12,
     "metadata": {},
     "output_type": "execute_result"
    }
   ],
   "source": [
    "x[5]"
   ]
  },
  {
   "cell_type": "code",
   "execution_count": 30,
   "metadata": {},
   "outputs": [],
   "source": [
    "with open('ranking.csv','w',newline=\"\") as file:\n",
    "    writer = csv.writer(file)\n",
    "    writer.writerow([\"institute_id\",\"name\",\"TLR\",\"RPC\",\"GO\",\"OI\",\"PRECEPTION\",\"city\",\"state\",\"score\",\"nirf_rank\"])\n",
    "    for tr in row:\n",
    "        td = tr.find_all('td')\n",
    "        t=td[1].find_all('a')[2].get('href')\n",
    "        writer.writerow([r.get_text().split(\"More\")[0] for r in td]+[t])"
   ]
  },
  {
   "cell_type": "code",
   "execution_count": 33,
   "metadata": {},
   "outputs": [
    {
     "name": "stdout",
     "output_type": "stream",
     "text": [
      "https://nirfcdn.azureedge.net/2020/pdf/Engineering/IR-E-U-0456.pdf\n",
      "https://nirfcdn.azureedge.net/2020/pdf/Engineering/IR-E-I-1074.pdf\n",
      "https://nirfcdn.azureedge.net/2020/pdf/Engineering/IR-E-U-0306.pdf\n",
      "https://nirfcdn.azureedge.net/2020/pdf/Engineering/IR-E-I-1075.pdf\n",
      "https://nirfcdn.azureedge.net/2020/pdf/Engineering/IR-E-U-0573.pdf\n",
      "https://nirfcdn.azureedge.net/2020/pdf/Engineering/IR-E-U-0560.pdf\n",
      "https://nirfcdn.azureedge.net/2020/pdf/Engineering/IR-E-U-0053.pdf\n",
      "https://nirfcdn.azureedge.net/2020/pdf/Engineering/IR-E-U-0013.pdf\n",
      "https://nirfcdn.azureedge.net/2020/pdf/Engineering/IR-E-U-0467.pdf\n",
      "https://nirfcdn.azureedge.net/2020/pdf/Engineering/IR-E-U-0273.pdf\n",
      "https://nirfcdn.azureedge.net/2020/pdf/Engineering/IR-E-U-0701.pdf\n",
      "https://nirfcdn.azureedge.net/2020/pdf/Engineering/IR-E-U-0205.pdf\n",
      "https://nirfcdn.azureedge.net/2020/pdf/Engineering/IR-E-U-0237.pdf\n",
      "https://nirfcdn.azureedge.net/2020/pdf/Engineering/IR-E-U-0439.pdf\n",
      "https://nirfcdn.azureedge.net/2020/pdf/Engineering/IR-E-U-0490.pdf\n",
      "https://nirfcdn.azureedge.net/2020/pdf/Engineering/IR-E-U-0357.pdf\n",
      "https://nirfcdn.azureedge.net/2020/pdf/Engineering/IR-E-U-0575.pdf\n",
      "https://nirfcdn.azureedge.net/2020/pdf/Engineering/IR-E-U-0308.pdf\n",
      "https://nirfcdn.azureedge.net/2020/pdf/Engineering/IR-E-U-0025.pdf\n",
      "https://nirfcdn.azureedge.net/2020/pdf/Engineering/IR-E-U-0436.pdf\n",
      "https://nirfcdn.azureedge.net/2020/pdf/Engineering/IR-E-U-0584.pdf\n",
      "https://nirfcdn.azureedge.net/2020/pdf/Engineering/IR-E-U-0355.pdf\n",
      "https://nirfcdn.azureedge.net/2020/pdf/Engineering/IR-E-U-0263.pdf\n",
      "https://nirfcdn.azureedge.net/2020/pdf/Engineering/IR-E-U-0139.pdf\n",
      "https://nirfcdn.azureedge.net/2020/pdf/Engineering/IR-E-U-0378.pdf\n",
      "https://nirfcdn.azureedge.net/2020/pdf/Engineering/IR-E-U-0064.pdf\n",
      "https://nirfcdn.azureedge.net/2020/pdf/Engineering/IR-E-U-0334.pdf\n",
      "https://nirfcdn.azureedge.net/2020/pdf/Engineering/IR-E-U-0108.pdf\n",
      "https://nirfcdn.azureedge.net/2020/pdf/Engineering/IR-E-I-1480.pdf\n",
      "https://nirfcdn.azureedge.net/2020/pdf/Engineering/IR-E-U-0391.pdf\n",
      "https://nirfcdn.azureedge.net/2020/pdf/Engineering/IR-E-U-0184.pdf\n",
      "https://nirfcdn.azureedge.net/2020/pdf/Engineering/IR-E-U-0497.pdf\n",
      "https://nirfcdn.azureedge.net/2020/pdf/Engineering/IR-E-U-0255.pdf\n",
      "https://nirfcdn.azureedge.net/2020/pdf/Engineering/IR-E-U-0363.pdf\n",
      "https://nirfcdn.azureedge.net/2020/pdf/Engineering/IR-E-U-0410.pdf\n",
      "https://nirfcdn.azureedge.net/2020/pdf/Engineering/IR-E-U-0098.pdf\n",
      "https://nirfcdn.azureedge.net/2020/pdf/Engineering/IR-E-U-0476.pdf\n",
      "https://nirfcdn.azureedge.net/2020/pdf/Engineering/IR-E-U-0202.pdf\n",
      "https://nirfcdn.azureedge.net/2020/pdf/Engineering/IR-E-U-0496.pdf\n",
      "https://nirfcdn.azureedge.net/2020/pdf/Engineering/IR-E-U-0172.pdf\n",
      "https://nirfcdn.azureedge.net/2020/pdf/Engineering/IR-E-U-0473.pdf\n",
      "https://nirfcdn.azureedge.net/2020/pdf/Engineering/IR-E-U-0356.pdf\n",
      "https://nirfcdn.azureedge.net/2020/pdf/Engineering/IR-E-U-0014.pdf\n",
      "https://nirfcdn.azureedge.net/2020/pdf/Engineering/IR-E-C-16604.pdf\n",
      "https://nirfcdn.azureedge.net/2020/pdf/Engineering/IR-E-C-7252.pdf\n",
      "https://nirfcdn.azureedge.net/2020/pdf/Engineering/IR-E-U-0055.pdf\n",
      "https://nirfcdn.azureedge.net/2020/pdf/Engineering/IR-E-U-0577.pdf\n",
      "https://nirfcdn.azureedge.net/2020/pdf/Engineering/IR-E-U-0530.pdf\n",
      "https://nirfcdn.azureedge.net/2020/pdf/Engineering/IR-E-C-37013.pdf\n",
      "https://nirfcdn.azureedge.net/2020/pdf/Engineering/IR-E-C-41593.pdf\n",
      "https://nirfcdn.azureedge.net/2020/pdf/Engineering/IR-E-U-0474.pdf\n",
      "https://nirfcdn.azureedge.net/2020/pdf/Engineering/IR-E-U-0374.pdf\n",
      "https://nirfcdn.azureedge.net/2020/pdf/Engineering/IR-E-U-0395.pdf\n",
      "https://nirfcdn.azureedge.net/2020/pdf/Engineering/IR-E-U-0149.pdf\n",
      "https://nirfcdn.azureedge.net/2020/pdf/Engineering/IR-E-U-0249.pdf\n",
      "https://nirfcdn.azureedge.net/2020/pdf/Engineering/IR-E-U-0105.pdf\n",
      "https://nirfcdn.azureedge.net/2020/pdf/Engineering/IR-E-U-0017.pdf\n",
      "https://nirfcdn.azureedge.net/2020/pdf/Engineering/IR-E-U-0020.pdf\n",
      "https://nirfcdn.azureedge.net/2020/pdf/Engineering/IR-E-C-1331.pdf\n",
      "https://nirfcdn.azureedge.net/2020/pdf/Engineering/IR-E-U-0458.pdf\n",
      "https://nirfcdn.azureedge.net/2020/pdf/Engineering/IR-E-U-0619.pdf\n",
      "https://nirfcdn.azureedge.net/2020/pdf/Engineering/IR-E-U-0221.pdf\n",
      "https://nirfcdn.azureedge.net/2020/pdf/Engineering/IR-E-U-0297.pdf\n",
      "https://nirfcdn.azureedge.net/2020/pdf/Engineering/IR-E-C-26794.pdf\n",
      "https://nirfcdn.azureedge.net/2020/pdf/Engineering/IR-E-U-0284.pdf\n",
      "https://nirfcdn.azureedge.net/2020/pdf/Engineering/IR-E-U-0795.pdf\n",
      "https://nirfcdn.azureedge.net/2020/pdf/Engineering/IR-E-U-0092.pdf\n",
      "https://nirfcdn.azureedge.net/2020/pdf/Engineering/IR-E-U-0080.pdf\n",
      "https://nirfcdn.azureedge.net/2020/pdf/Engineering/IR-E-C-24004.pdf\n",
      "https://nirfcdn.azureedge.net/2020/pdf/Engineering/IR-E-C-1269.pdf\n",
      "https://nirfcdn.azureedge.net/2020/pdf/Engineering/IR-E-C-33641.pdf\n",
      "https://nirfcdn.azureedge.net/2020/pdf/Engineering/IR-E-U-0078.pdf\n",
      "https://nirfcdn.azureedge.net/2020/pdf/Engineering/IR-E-C-1262.pdf\n",
      "https://nirfcdn.azureedge.net/2020/pdf/Engineering/IR-E-C-45375.pdf\n",
      "https://nirfcdn.azureedge.net/2020/pdf/Engineering/IR-E-U-0493.pdf\n",
      "https://nirfcdn.azureedge.net/2020/pdf/Engineering/IR-E-C-6379.pdf\n",
      "https://nirfcdn.azureedge.net/2020/pdf/Engineering/IR-E-U-0620.pdf\n",
      "https://nirfcdn.azureedge.net/2020/pdf/Engineering/IR-E-U-0201.pdf\n",
      "https://nirfcdn.azureedge.net/2020/pdf/Engineering/IR-E-U-0207.pdf\n",
      "https://nirfcdn.azureedge.net/2020/pdf/Engineering/IR-E-U-0460.pdf\n",
      "https://nirfcdn.azureedge.net/2020/pdf/Engineering/IR-E-U-0286.pdf\n",
      "https://nirfcdn.azureedge.net/2020/pdf/Engineering/IR-E-C-36926.pdf\n",
      "https://nirfcdn.azureedge.net/2020/pdf/Engineering/IR-E-C-36995.pdf\n",
      "https://nirfcdn.azureedge.net/2020/pdf/Engineering/IR-E-U-0747.pdf\n",
      "https://nirfcdn.azureedge.net/2020/pdf/Engineering/IR-E-C-43708.pdf\n",
      "https://nirfcdn.azureedge.net/2020/pdf/Engineering/IR-E-U-0099.pdf\n",
      "https://nirfcdn.azureedge.net/2020/pdf/Engineering/IR-E-U-0379.pdf\n",
      "https://nirfcdn.azureedge.net/2020/pdf/Engineering/IR-E-C-27616.pdf\n",
      "https://nirfcdn.azureedge.net/2020/pdf/Engineering/IR-E-U-0555.pdf\n",
      "https://nirfcdn.azureedge.net/2020/pdf/Engineering/IR-E-C-36969.pdf\n",
      "https://nirfcdn.azureedge.net/2020/pdf/Engineering/IR-E-C-1297.pdf\n",
      "https://nirfcdn.azureedge.net/2020/pdf/Engineering/IR-E-U-0072.pdf\n",
      "https://nirfcdn.azureedge.net/2020/pdf/Engineering/IR-E-C-30045.pdf\n",
      "https://nirfcdn.azureedge.net/2020/pdf/Engineering/IR-E-U-0733.pdf\n",
      "https://nirfcdn.azureedge.net/2020/pdf/Engineering/IR-E-U-0489.pdf\n",
      "https://nirfcdn.azureedge.net/2020/pdf/Engineering/IR-E-U-0522.pdf\n",
      "https://nirfcdn.azureedge.net/2020/pdf/Engineering/IR-E-C-18154.pdf\n",
      "https://nirfcdn.azureedge.net/2020/pdf/Engineering/IR-E-U-0189.pdf\n",
      "https://nirfcdn.azureedge.net/2020/pdf/Engineering/IR-E-C-35417.pdf\n",
      "https://nirfcdn.azureedge.net/2020/pdf/Engineering/IR-E-U-0267.pdf\n",
      "https://nirfcdn.azureedge.net/2020/pdf/Engineering/IR-E-C-27058.pdf\n",
      "https://nirfcdn.azureedge.net/2020/pdf/Engineering/IR-E-U-0507.pdf\n",
      "https://nirfcdn.azureedge.net/2020/pdf/Engineering/IR-E-U-0516.pdf\n",
      "https://nirfcdn.azureedge.net/2020/pdf/Engineering/IR-E-U-0382.pdf\n",
      "https://nirfcdn.azureedge.net/2020/pdf/Engineering/IR-E-C-36975.pdf\n",
      "https://nirfcdn.azureedge.net/2020/pdf/Engineering/IR-E-C-16626.pdf\n",
      "https://nirfcdn.azureedge.net/2020/pdf/Engineering/IR-E-U-0454.pdf\n",
      "https://nirfcdn.azureedge.net/2020/pdf/Engineering/IR-E-C-16547.pdf\n",
      "https://nirfcdn.azureedge.net/2020/pdf/Engineering/IR-E-C-42054.pdf\n",
      "https://nirfcdn.azureedge.net/2020/pdf/Engineering/IR-E-U-0163.pdf\n",
      "https://nirfcdn.azureedge.net/2020/pdf/Engineering/IR-E-U-0130.pdf\n",
      "https://nirfcdn.azureedge.net/2020/pdf/Engineering/IR-E-U-0190.pdf\n",
      "https://nirfcdn.azureedge.net/2020/pdf/Engineering/IR-E-C-18886.pdf\n",
      "https://nirfcdn.azureedge.net/2020/pdf/Engineering/IR-E-C-1371.pdf\n",
      "https://nirfcdn.azureedge.net/2020/pdf/Engineering/IR-E-U-0186.pdf\n",
      "https://nirfcdn.azureedge.net/2020/pdf/Engineering/IR-E-U-0143.pdf\n",
      "https://nirfcdn.azureedge.net/2020/pdf/Engineering/IR-E-U-0223.pdf\n",
      "https://nirfcdn.azureedge.net/2020/pdf/Engineering/IR-E-U-0043.pdf\n",
      "https://nirfcdn.azureedge.net/2020/pdf/Engineering/IR-E-U-0367.pdf\n",
      "https://nirfcdn.azureedge.net/2020/pdf/Engineering/IR-E-U-0175.pdf\n",
      "https://nirfcdn.azureedge.net/2020/pdf/Engineering/IR-E-S-8898.pdf\n",
      "https://nirfcdn.azureedge.net/2020/pdf/Engineering/IR-E-C-6581.pdf\n",
      "https://nirfcdn.azureedge.net/2020/pdf/Engineering/IR-E-U-0445.pdf\n",
      "https://nirfcdn.azureedge.net/2020/pdf/Engineering/IR-E-C-25622.pdf\n",
      "https://nirfcdn.azureedge.net/2020/pdf/Engineering/IR-E-C-33773.pdf\n",
      "https://nirfcdn.azureedge.net/2020/pdf/Engineering/IR-E-C-1413.pdf\n",
      "https://nirfcdn.azureedge.net/2020/pdf/Engineering/IR-E-C-19667.pdf\n",
      "https://nirfcdn.azureedge.net/2020/pdf/Engineering/IR-E-C-1352.pdf\n",
      "https://nirfcdn.azureedge.net/2020/pdf/Engineering/IR-E-U-0774.pdf\n",
      "https://nirfcdn.azureedge.net/2020/pdf/Engineering/IR-E-U-0621.pdf\n",
      "https://nirfcdn.azureedge.net/2020/pdf/Engineering/IR-E-U-0146.pdf\n",
      "https://nirfcdn.azureedge.net/2020/pdf/Engineering/IR-E-C-1412.pdf\n",
      "https://nirfcdn.azureedge.net/2020/pdf/Engineering/IR-E-C-1400.pdf\n",
      "https://nirfcdn.azureedge.net/2020/pdf/Engineering/IR-E-U-0535.pdf\n",
      "https://nirfcdn.azureedge.net/2020/pdf/Engineering/IR-E-C-37065.pdf\n",
      "https://nirfcdn.azureedge.net/2020/pdf/Engineering/IR-E-U-0854.pdf\n",
      "https://nirfcdn.azureedge.net/2020/pdf/Engineering/IR-E-U-0384.pdf\n",
      "https://nirfcdn.azureedge.net/2020/pdf/Engineering/IR-E-U-0938.pdf\n",
      "https://nirfcdn.azureedge.net/2020/pdf/Engineering/IR-E-C-18817.pdf\n",
      "https://nirfcdn.azureedge.net/2020/pdf/Engineering/IR-E-C-18254.pdf\n",
      "https://nirfcdn.azureedge.net/2020/pdf/Engineering/IR-E-C-19607.pdf\n",
      "https://nirfcdn.azureedge.net/2020/pdf/Engineering/IR-E-C-37089.pdf\n",
      "https://nirfcdn.azureedge.net/2020/pdf/Engineering/IR-E-C-19650.pdf\n",
      "https://nirfcdn.azureedge.net/2020/pdf/Engineering/IR-E-U-0332.pdf\n",
      "https://nirfcdn.azureedge.net/2020/pdf/Engineering/IR-E-U-0046.pdf\n",
      "https://nirfcdn.azureedge.net/2020/pdf/Engineering/IR-E-U-0685.pdf\n",
      "https://nirfcdn.azureedge.net/2020/pdf/Engineering/IR-E-C-1345.pdf\n",
      "https://nirfcdn.azureedge.net/2020/pdf/Engineering/IR-E-C-43264.pdf\n",
      "https://nirfcdn.azureedge.net/2020/pdf/Engineering/IR-E-I-1441.pdf\n",
      "https://nirfcdn.azureedge.net/2020/pdf/Engineering/IR-E-C-37028.pdf\n",
      "https://nirfcdn.azureedge.net/2020/pdf/Engineering/IR-E-N-10.pdf\n",
      "https://nirfcdn.azureedge.net/2020/pdf/Engineering/IR-E-C-37064.pdf\n",
      "https://nirfcdn.azureedge.net/2020/pdf/Engineering/IR-E-U-0037.pdf\n",
      "https://nirfcdn.azureedge.net/2020/pdf/Engineering/IR-E-C-6202.pdf\n",
      "https://nirfcdn.azureedge.net/2020/pdf/Engineering/IR-E-C-16614.pdf\n",
      "https://nirfcdn.azureedge.net/2020/pdf/Engineering/IR-E-C-18010.pdf\n",
      "https://nirfcdn.azureedge.net/2020/pdf/Engineering/IR-E-U-0592.pdf\n",
      "https://nirfcdn.azureedge.net/2020/pdf/Engineering/IR-E-U-0613.pdf\n",
      "https://nirfcdn.azureedge.net/2020/pdf/Engineering/IR-E-U-0213.pdf\n",
      "https://nirfcdn.azureedge.net/2020/pdf/Engineering/IR-E-C-16537.pdf\n",
      "https://nirfcdn.azureedge.net/2020/pdf/Engineering/IR-E-C-19754.pdf\n",
      "https://nirfcdn.azureedge.net/2020/pdf/Engineering/IR-E-U-0604.pdf\n",
      "https://nirfcdn.azureedge.net/2020/pdf/Engineering/IR-E-C-6238.pdf\n",
      "https://nirfcdn.azureedge.net/2020/pdf/Engineering/IR-E-C-8277.pdf\n",
      "https://nirfcdn.azureedge.net/2020/pdf/Engineering/IR-E-I-1015.pdf\n",
      "https://nirfcdn.azureedge.net/2020/pdf/Engineering/IR-E-U-0864.pdf\n",
      "https://nirfcdn.azureedge.net/2020/pdf/Engineering/IR-E-U-0564.pdf\n",
      "https://nirfcdn.azureedge.net/2020/pdf/Engineering/IR-E-C-11015.pdf\n",
      "https://nirfcdn.azureedge.net/2020/pdf/Engineering/IR-E-C-1336.pdf\n",
      "https://nirfcdn.azureedge.net/2020/pdf/Engineering/IR-E-C-19706.pdf\n",
      "https://nirfcdn.azureedge.net/2020/pdf/Engineering/IR-E-C-33584.pdf\n",
      "https://nirfcdn.azureedge.net/2020/pdf/Engineering/IR-E-C-19534.pdf\n",
      "https://nirfcdn.azureedge.net/2020/pdf/Engineering/IR-E-C-42242.pdf\n",
      "https://nirfcdn.azureedge.net/2020/pdf/Engineering/IR-E-U-0169.pdf\n",
      "https://nirfcdn.azureedge.net/2020/pdf/Engineering/IR-E-C-1438.pdf\n",
      "https://nirfcdn.azureedge.net/2020/pdf/Engineering/IR-E-C-16572.pdf\n",
      "https://nirfcdn.azureedge.net/2020/pdf/Engineering/IR-E-U-0147.pdf\n",
      "https://nirfcdn.azureedge.net/2020/pdf/Engineering/IR-E-C-9462.pdf\n",
      "https://nirfcdn.azureedge.net/2020/pdf/Engineering/IR-E-C-30153.pdf\n",
      "https://nirfcdn.azureedge.net/2020/pdf/Engineering/IR-E-C-19747.pdf\n",
      "https://nirfcdn.azureedge.net/2020/pdf/Engineering/IR-E-U-0373.pdf\n",
      "https://nirfcdn.azureedge.net/2020/pdf/Engineering/IR-E-U-0455.pdf\n",
      "https://nirfcdn.azureedge.net/2020/pdf/Engineering/IR-E-U-0739.pdf\n",
      "https://nirfcdn.azureedge.net/2020/pdf/Engineering/IR-E-C-26929.pdf\n",
      "https://nirfcdn.azureedge.net/2020/pdf/Engineering/IR-E-C-26928.pdf\n",
      "https://nirfcdn.azureedge.net/2020/pdf/Engineering/IR-E-C-1398.pdf\n",
      "https://nirfcdn.azureedge.net/2020/pdf/Engineering/IR-E-C-26162.pdf\n",
      "https://nirfcdn.azureedge.net/2020/pdf/Engineering/IR-E-C-17913.pdf\n",
      "https://nirfcdn.azureedge.net/2020/pdf/Engineering/IR-E-C-27089.pdf\n",
      "https://nirfcdn.azureedge.net/2020/pdf/Engineering/IR-E-C-26905.pdf\n",
      "https://nirfcdn.azureedge.net/2020/pdf/Engineering/IR-E-C-6192.pdf\n",
      "https://nirfcdn.azureedge.net/2020/pdf/Engineering/IR-E-C-16476.pdf\n",
      "https://nirfcdn.azureedge.net/2020/pdf/Engineering/IR-E-U-0129.pdf\n",
      "https://nirfcdn.azureedge.net/2020/pdf/Engineering/IR-E-U-0405.pdf\n",
      "https://nirfcdn.azureedge.net/2020/pdf/Engineering/IR-E-U-0162.pdf\n",
      "https://nirfcdn.azureedge.net/2020/pdf/Engineering/IR-E-C-42227.pdf\n",
      "https://nirfcdn.azureedge.net/2020/pdf/Engineering/IR-E-C-49660.pdf\n",
      "https://nirfcdn.azureedge.net/2020/pdf/Engineering/IR-E-C-34167.pdf\n",
      "https://nirfcdn.azureedge.net/2020/pdf/Engineering/IR-E-C-48145.pdf\n",
      "https://nirfcdn.azureedge.net/2020/pdf/Engineering/IR-E-U-0615.pdf\n"
     ]
    }
   ],
   "source": [
    "with open('pdf.csv','w') as file:\n",
    "    writer = csv.writer(file)\n",
    "    for tr in row:\n",
    "        td = tr.find_all('td')\n",
    "        writer.writerow([td[1].find_all('a')[2].get('href')])\n",
    "        print(td[1].find_all('a')[2].get('href'))"
   ]
  }
 ],
 "metadata": {
  "kernelspec": {
   "display_name": "Python 3",
   "language": "python",
   "name": "python3"
  },
  "language_info": {
   "codemirror_mode": {
    "name": "ipython",
    "version": 3
   },
   "file_extension": ".py",
   "mimetype": "text/x-python",
   "name": "python",
   "nbconvert_exporter": "python",
   "pygments_lexer": "ipython3",
   "version": "3.8.3"
  }
 },
 "nbformat": 4,
 "nbformat_minor": 4
}
