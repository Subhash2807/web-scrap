{
 "cells": [
  {
   "cell_type": "code",
   "execution_count": 1,
   "metadata": {},
   "outputs": [],
   "source": [
    "from bs4 import BeautifulSoup\n",
    "import requests\n",
    "import csv"
   ]
  },
  {
   "cell_type": "code",
   "execution_count": 2,
   "metadata": {},
   "outputs": [],
   "source": [
    "url = \"https://www.nirfindia.org/engg\""
   ]
  },
  {
   "cell_type": "code",
   "execution_count": 3,
   "metadata": {},
   "outputs": [],
   "source": [
    "content = requests.get(url)"
   ]
  },
  {
   "cell_type": "code",
   "execution_count": 4,
   "metadata": {},
   "outputs": [],
   "source": [
    "html = BeautifulSoup(content.text,\"html.parser\")"
   ]
  },
  {
   "cell_type": "code",
   "execution_count": 5,
   "metadata": {},
   "outputs": [],
   "source": [
    "tbody = html.find('tbody')"
   ]
  },
  {
   "cell_type": "code",
   "execution_count": 10,
   "metadata": {},
   "outputs": [],
   "source": [
    "row = tbody.find_all('tr',recursive=False)"
   ]
  },
  {
   "cell_type": "code",
   "execution_count": 24,
   "metadata": {},
   "outputs": [
    {
     "name": "stdout",
     "output_type": "stream",
     "text": [
      "https://endpoint885583.azureedge.net/rankingpdf/NIRF-ENGG-INF-77.pdf\n",
      "https://endpoint885583.azureedge.net/rankingpdf/NIRF-ENGG-INF-312.pdf\n",
      "https://endpoint885583.azureedge.net/rankingpdf/NIRF-ENGG-INF-300.pdf\n",
      "https://endpoint885583.azureedge.net/rankingpdf/NIRF-ENGG-INF-79.pdf\n",
      "https://endpoint885583.azureedge.net/rankingpdf/NIRF-ENGG-INF-228.pdf\n",
      "https://endpoint885583.azureedge.net/rankingpdf/NIRF-ENGG-INF-78.pdf\n",
      "https://endpoint885583.azureedge.net/rankingpdf/NIRF-ENGG-INF-345.pdf\n",
      "https://endpoint885583.azureedge.net/rankingpdf/NIRF-ENGG-INF-298.pdf\n",
      "https://endpoint885583.azureedge.net/rankingpdf/NIRF-ENGG-INF-340.pdf\n",
      "https://endpoint885583.azureedge.net/rankingpdf/NIRF-ENGG-INF-344.pdf\n",
      "https://endpoint885583.azureedge.net/rankingpdf/NIRF-ENGG-INF-299.pdf\n",
      "https://endpoint885583.azureedge.net/rankingpdf/NIRF-ENGG-INF-370.pdf\n",
      "https://endpoint885583.azureedge.net/rankingpdf/NIRF-ENGG-768.pdf\n",
      "https://endpoint885583.azureedge.net/rankingpdf/NIRF-ENGG-INF-423.pdf\n",
      "https://endpoint885583.azureedge.net/rankingpdf/NIRF-ENGG-INF-373.pdf\n",
      "https://endpoint885583.azureedge.net/rankingpdf/NIRF-ENGG-INF-346.pdf\n",
      "https://endpoint885583.azureedge.net/rankingpdf/NIRF-ENGG-1-2451694143.pdf\n",
      "https://endpoint885583.azureedge.net/rankingpdf/NIRF-ENGG-INF-225.pdf\n",
      "https://endpoint885583.azureedge.net/rankingpdf/NIRF-ENGG-INF-140.pdf\n",
      "https://endpoint885583.azureedge.net/rankingpdf/NIRF-ENGG-INF-338.pdf\n",
      "https://endpoint885583.azureedge.net/rankingpdf/NIRF-ENGG-INF-NEW-11.pdf\n",
      "https://endpoint885583.azureedge.net/rankingpdf/NIRF-ENGG-1-2453839794.pdf\n",
      "https://endpoint885583.azureedge.net/rankingpdf/NIRF-ENGG-INF-363.pdf\n",
      "https://endpoint885583.azureedge.net/rankingpdf/NIRF-ENGG-INF-357.pdf\n",
      "https://endpoint885583.azureedge.net/rankingpdf/NIRF-ENGG-1-2451585489.pdf\n",
      "https://endpoint885583.azureedge.net/rankingpdf/NIRF-ENGG-INF-301.pdf\n",
      "https://endpoint885583.azureedge.net/rankingpdf/NIRF-ENGG-INF-296.pdf\n",
      "https://endpoint885583.azureedge.net/rankingpdf/NIRF-ENGG-1-2454118012.pdf\n",
      "https://endpoint885583.azureedge.net/rankingpdf/NIRF-ENGG-INF-247.pdf\n",
      "https://endpoint885583.azureedge.net/rankingpdf/NIRF-ENGG-1-2452436680.pdf\n",
      "https://endpoint885583.azureedge.net/rankingpdf/NIRF-ENGG-INF-361.pdf\n",
      "https://endpoint885583.azureedge.net/rankingpdf/NIRF-ENGG-1-2456108684.pdf\n",
      "https://endpoint885583.azureedge.net/rankingpdf/NIRF-ENGG-620-1.pdf\n",
      "https://endpoint885583.azureedge.net/rankingpdf/NIRF-ENGG-1-2452855119.pdf\n",
      "https://endpoint885583.azureedge.net/rankingpdf/NIRF-ENGG-1-2455786386.pdf\n",
      "https://endpoint885583.azureedge.net/rankingpdf/NIRF-ENGG-1-2449931180.pdf\n",
      "https://endpoint885583.azureedge.net/rankingpdf/NIRF-ENGG-1-2451203119.pdf\n",
      "https://endpoint885583.azureedge.net/rankingpdf/NIRF-ENGG-INF-142.pdf\n",
      "https://endpoint885583.azureedge.net/rankingpdf/NIRF-ENGG-INF-240.pdf\n",
      "https://endpoint885583.azureedge.net/rankingpdf/NIRF-ENGG-1-2519066781.pdf\n",
      "https://endpoint885583.azureedge.net/rankingpdf/NIRF-ENGG-1-2456080951.pdf\n",
      "https://endpoint885583.azureedge.net/rankingpdf/NIRF-ENGG-1-2455890291.pdf\n",
      "https://endpoint885583.azureedge.net/rankingpdf/NIRF-ENGG-INF-293.pdf\n",
      "https://endpoint885583.azureedge.net/rankingpdf/NIRF-ENGG-INF-333.pdf\n",
      "https://endpoint885583.azureedge.net/rankingpdf/NIRF-ENGG-350.pdf\n",
      "https://endpoint885583.azureedge.net/rankingpdf/NIRF-ENGG-512.pdf\n",
      "https://endpoint885583.azureedge.net/rankingpdf/NIRF-ENGG-1-2456278780.pdf\n",
      "https://endpoint885583.azureedge.net/rankingpdf/NIRF-ENGG-1-2456274762.pdf\n",
      "https://endpoint885583.azureedge.net/rankingpdf/NIRF-ENGG-INF-144.pdf\n",
      "https://endpoint885583.azureedge.net/rankingpdf/NIRF-ENGG-1-2452861917.pdf\n",
      "https://endpoint885583.azureedge.net/rankingpdf/NIRF-ENGG-1-2449920071.pdf\n",
      "https://endpoint885583.azureedge.net/rankingpdf/NIRF-ENGG-INF-145.pdf\n",
      "https://endpoint885583.azureedge.net/rankingpdf/NIRF-ENGG-INF-359.pdf\n",
      "https://endpoint885583.azureedge.net/rankingpdf/NIRF-ENGG-1-2456189964.pdf\n",
      "https://endpoint885583.azureedge.net/rankingpdf/NIRF-ENGG-57.pdf\n",
      "https://endpoint885583.azureedge.net/rankingpdf/NIRF-ENGG-1-2455979851.pdf\n",
      "https://endpoint885583.azureedge.net/rankingpdf/NIRF-ENGG-INF-372.pdf\n",
      "https://endpoint885583.azureedge.net/rankingpdf/NIRF-ENGG-INF-365.pdf\n",
      "https://endpoint885583.azureedge.net/rankingpdf/NIRF-ENGG-1-2451156700.pdf\n",
      "https://endpoint885583.azureedge.net/rankingpdf/NIRF-ENGG-363.pdf\n",
      "https://endpoint885583.azureedge.net/rankingpdf/NIRF-ENGG-321.pdf\n",
      "https://endpoint885583.azureedge.net/rankingpdf/NIRF-ENGG-1-2454054346.pdf\n",
      "https://endpoint885583.azureedge.net/rankingpdf/NIRF-ENGG-1-2449912182.pdf\n",
      "https://endpoint885583.azureedge.net/rankingpdf/NIRF-ENGG-INF-368.pdf\n",
      "https://endpoint885583.azureedge.net/rankingpdf/NIRF-ENGG-1-2451386658.pdf\n",
      "https://endpoint885583.azureedge.net/rankingpdf/NIRF-ENGG-INF-141.pdf\n",
      "https://endpoint885583.azureedge.net/rankingpdf/NIRF-ENGG-516.pdf\n",
      "https://endpoint885583.azureedge.net/rankingpdf/NIRF-ENGG-INF-358.pdf\n",
      "https://endpoint885583.azureedge.net/rankingpdf/NIRF-ENGG-1-2453375226.pdf\n",
      "https://endpoint885583.azureedge.net/rankingpdf/NIRF-ENGG-1-2451415750.pdf\n",
      "https://endpoint885583.azureedge.net/rankingpdf/NIRF-ENGG-1-2450669659.pdf\n",
      "https://endpoint885583.azureedge.net/rankingpdf/NIRF-ENGG-1-2450577299.pdf\n",
      "https://endpoint885583.azureedge.net/rankingpdf/NIRF-ENGG-230.pdf\n",
      "https://endpoint885583.azureedge.net/rankingpdf/NIRF-ENGG-1-2452919762.pdf\n",
      "https://endpoint885583.azureedge.net/rankingpdf/NIRF-ENGG-1-2449860060.pdf\n",
      "https://endpoint885583.azureedge.net/rankingpdf/NIRF-ENGG-1-2453916713.pdf\n",
      "https://endpoint885583.azureedge.net/rankingpdf/NIRF-ENGG-INF-404.pdf\n",
      "https://endpoint885583.azureedge.net/rankingpdf/NIRF-ENGG-INF-424.pdf\n",
      "https://endpoint885583.azureedge.net/rankingpdf/NIRF-ENGG-INF-362.pdf\n",
      "https://endpoint885583.azureedge.net/rankingpdf/NIRF-ENGG-1-2451417043.pdf\n",
      "https://endpoint885583.azureedge.net/rankingpdf/NIRF-ENGG-INF-410.pdf\n",
      "https://endpoint885583.azureedge.net/rankingpdf/NIRF-ENGG-1-2452796944.pdf\n",
      "https://endpoint885583.azureedge.net/rankingpdf/NIRF-ENGG-1-2455130573.pdf\n",
      "https://endpoint885583.azureedge.net/rankingpdf/NIRF-ENGG-1-2453523111.pdf\n",
      "https://endpoint885583.azureedge.net/rankingpdf/NIRF-ENGG-1-2450743734.pdf\n",
      "https://endpoint885583.azureedge.net/rankingpdf/NIRF-ENGG-1-2454009090.pdf\n",
      "https://endpoint885583.azureedge.net/rankingpdf/NIRF-ENGG-INF-367.pdf\n",
      "https://endpoint885583.azureedge.net/rankingpdf/NIRF-ENGG-773.pdf\n",
      "https://endpoint885583.azureedge.net/rankingpdf/NIRF-ENGG-1-2453802770.pdf\n",
      "https://endpoint885583.azureedge.net/rankingpdf/NIRF-ENGG-1-2454313873.pdf\n",
      "https://endpoint885583.azureedge.net/rankingpdf/NIRF-ENGG-1-2449883879.pdf\n",
      "https://endpoint885583.azureedge.net/rankingpdf/NIRF-ENGG-INF-408.pdf\n",
      "https://endpoint885583.azureedge.net/rankingpdf/NIRF-ENGG-1-2450722205.pdf\n",
      "https://endpoint885583.azureedge.net/rankingpdf/NIRF-ENGG-1-2449936766.pdf\n",
      "https://endpoint885583.azureedge.net/rankingpdf/NIRF-ENGG-1-2452443212.pdf\n",
      "https://endpoint885583.azureedge.net/rankingpdf/NIRF-ENGG-1-2455794950.pdf\n",
      "https://endpoint885583.azureedge.net/rankingpdf/NIRF-ENGG-1-2453623896.pdf\n",
      "https://endpoint885583.azureedge.net/rankingpdf/NIRF-ENGG-1-2449945774.pdf\n",
      "https://endpoint885583.azureedge.net/rankingpdf/NIRF-ENGG-1-2454813228.pdf\n",
      "https://endpoint885583.azureedge.net/rankingpdf/NIRF-ENGG-1-2455123470.pdf\n"
     ]
    }
   ],
   "source": [
    "with open('nirf.csv','w',newline='') as file:\n",
    "    writer = csv.writer(file)\n",
    "    for x in row:\n",
    "        a = x.find('a',href=True)\n",
    "        print(a.get('href'))\n",
    "        writer.writerow([a.get('href')])"
   ]
  }
 ],
 "metadata": {
  "kernelspec": {
   "display_name": "Python 3",
   "language": "python",
   "name": "python3"
  },
  "language_info": {
   "codemirror_mode": {
    "name": "ipython",
    "version": 3
   },
   "file_extension": ".py",
   "mimetype": "text/x-python",
   "name": "python",
   "nbconvert_exporter": "python",
   "pygments_lexer": "ipython3",
   "version": "3.8.3"
  }
 },
 "nbformat": 4,
 "nbformat_minor": 4
}
