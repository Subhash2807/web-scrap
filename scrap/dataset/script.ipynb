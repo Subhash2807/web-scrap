{
 "cells": [
  {
   "cell_type": "code",
   "execution_count": 1,
   "metadata": {},
   "outputs": [],
   "source": [
    "import requests\n",
    "from bs4 import BeautifulSoup\n",
    "import csv\n",
    "import camelot"
   ]
  },
  {
   "cell_type": "code",
   "execution_count": 2,
   "metadata": {},
   "outputs": [],
   "source": [
    "url = \"https://www.nirfindia.org/2020/EngineeringRanking.html\""
   ]
  },
  {
   "cell_type": "code",
   "execution_count": 3,
   "metadata": {},
   "outputs": [],
   "source": [
    "data = requests.get(url)"
   ]
  },
  {
   "cell_type": "code",
   "execution_count": 4,
   "metadata": {},
   "outputs": [],
   "source": [
    "htm = BeautifulSoup(data.content,\"html.parser\")"
   ]
  },
  {
   "cell_type": "code",
   "execution_count": 5,
   "metadata": {},
   "outputs": [],
   "source": [
    "div = htm.find(\"tbody\")"
   ]
  },
  {
   "cell_type": "code",
   "execution_count": 6,
   "metadata": {},
   "outputs": [],
   "source": [
    "row=div.find_all('tr',recursive=False)"
   ]
  },
  {
   "cell_type": "code",
   "execution_count": 7,
   "metadata": {},
   "outputs": [],
   "source": [
    "x=row[0].find_all('td',recursive=False)"
   ]
  },
  {
   "cell_type": "code",
   "execution_count": 12,
   "metadata": {},
   "outputs": [
    {
     "name": "stdout",
     "output_type": "stream",
     "text": [
      "\n",
      "\n"
     ]
    }
   ],
   "source": [
    "i=1;\n",
    "with open('ranking.csv','w',newline=\"\") as file:\n",
    "    writer = csv.writer(file)\n",
    "    writer.writerow([\"institute_id\",\"name\",\"TLR\",\"RPC\",\"GO\",\"OI\",\"PRECEPTION\",\"city\",\"state\",\"score\",\"nirf_rank\",\"link\",\"no. of male students\",\"no. of female students\",\"total students\",\"Academic Year\",\"No. of first year students intake in the year\",\"No. of first year students admitted the year\",\"Academic Year in\",\"No. of students admitted through Lateral entry\",\"Academic Year\",\"No. of students graduating in minimum stipulated time\",\"No. of students placed\",\"Median salary of placed graduates(Amount Rs.)\",\"No. of students selected for Higher in Studies\"])\n",
    "    for tr in row:\n",
    "        td = tr.find_all('td')\n",
    "        t=td[1].find_all('a')[2].get('href')\n",
    "        data=requests.get(t)\n",
    "        with open(t.split('/')[-1],'wb') as f:\n",
    "            f.write(data.content)\n",
    "        tables = camelot.read_pdf(t.split('/')[-1])\n",
    "        table = tables[1].df\n",
    "        \n",
    "        table2 = tables[2].df\n",
    "        if(i==55):\n",
    "            table2=tables[3].df\n",
    "        elif(i==62 or i==63):\n",
    "            i+=1\n",
    "            print()\n",
    "            continue\n",
    "        elif(i==159 or i==192 or i==199):\n",
    "            table=tables[0].df\n",
    "            table2=tables[1].df\n",
    "        i+=1\n",
    "        \n",
    "        writer.writerow([r.get_text().split(\"More\")[0] for r in td]+[t,int(table[1][1]),int(table[2][1]),int(table[3][1])]+[table2[0][3],int(table2[1][3]),int(table2[2][3]),table2[3][3],int(table2[4][3]),table2[5][3],int(table2[6][3]),int(table2[7][3]),int(table2[8][3].split('(')[0]),int(table2[9][3])])"
   ]
  }
 ],
 "metadata": {
  "kernelspec": {
   "display_name": "Python 3",
   "language": "python",
   "name": "python3"
  },
  "language_info": {
   "codemirror_mode": {
    "name": "ipython",
    "version": 3
   },
   "file_extension": ".py",
   "mimetype": "text/x-python",
   "name": "python",
   "nbconvert_exporter": "python",
   "pygments_lexer": "ipython3",
   "version": "3.8.3"
  }
 },
 "nbformat": 4,
 "nbformat_minor": 4
}
